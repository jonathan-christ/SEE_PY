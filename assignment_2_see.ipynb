{
 "cells": [
  {
   "cell_type": "markdown",
   "metadata": {},
   "source": [
    "# **Clustering Assignment 2: Sessa Empirical Estimator (SEE)**\n",
    "## 📝 **Instructions**\n",
    "1) **Read the Journals** about the Sessa Empirical Estimator.\n",
    "2) **Convert the R codes into Python** Codes (use jupyter notebook).\n",
    "3) **Perform the Sessa Empircal Estimator and generate some insights** using either: \n",
    "    - Simulated data (https://www.frontiersin.org/journals/pharmacology/articles/10.3389/fphar.2019.00383/full) or \n",
    "    - Real world datasets of your choice (You can obtain it in Kaggle or in https://archive.ics.uci.edu/),\n",
    "4) **Generate a new insight using the new clustering algorithm**\n",
    "    - SEE uses K-Means clustering (again recall the disadvantages of K-Means)\n",
    "    - Substitute a different clustering algorithm\n",
    "5) **Compare your results between**:\n",
    "    - SEE using K-Means, and \n",
    "    - SEE using the clustering algorithm of your choice.\n",
    "6) Deadline is this **Sunday, Feb 23,** ~~2022~~ **2025 at 11:59 pm**\n",
    "7) Do this with your thesis partner.\n",
    "8) You can use any A.I. assistant.\n",
    "---"
   ]
  },
  {
   "cell_type": "markdown",
   "metadata": {},
   "source": [
    "## 👩‍💻 **Converting R Code to Python Code**\n",
    "### 💥**Importing necessary libraries** 💥\n",
    "#### Data Handling\n",
    "1. `pandas`: Used for handling tabular data (like data frames in R). Equivalent to `dplyr` in R\n",
    "2. `numpy`: Provides numerical operations, including array manipulations and mathematical functions."
   ]
  },
  {
   "cell_type": "code",
   "execution_count": 1,
   "metadata": {},
   "outputs": [],
   "source": [
    "import pandas as pd\n",
    "import numpy as np"
   ]
  },
  {
   "cell_type": "markdown",
   "metadata": {},
   "source": [
    "#### Data Visualization\n",
    "1.  `matplotlib.pyplot`: Equivalent to R's `plot()`, used for static graphs.\n",
    "2. `seaborn`: Used for statistical visualizations, like box plots (similar to R's `ggplot2`).\n"
   ]
  },
  {
   "cell_type": "code",
   "execution_count": 2,
   "metadata": {},
   "outputs": [],
   "source": [
    "import matplotlib.pyplot as plt\n",
    "import seaborn as sns"
   ]
  },
  {
   "cell_type": "markdown",
   "metadata": {},
   "source": [
    "#### Statistical Distribution\n",
    "1. `gaussian_kde` (Kernel Density Estimation): Similar to R's `density()`, used to estimate the probability distribution of a continuous variable."
   ]
  },
  {
   "cell_type": "code",
   "execution_count": 3,
   "metadata": {},
   "outputs": [],
   "source": [
    "from scipy.stats import gaussian_kde"
   ]
  },
  {
   "cell_type": "markdown",
   "metadata": {},
   "source": [
    "### Machine Learning (Clustering)\n",
    "1. `KMeans`: Implements K-Means clustering (equivalent to R’s kmeans()).\n",
    "2. `DBSCAN`: Alternative for K-Means clustering for SEE\n",
    "3. `StandardScaler`: Standardizes data (similar to R's scale())."
   ]
  },
  {
   "cell_type": "code",
   "execution_count": 5,
   "metadata": {},
   "outputs": [],
   "source": [
    "from sklearn.cluster import KMeans, DBSCAN\n",
    "from sklearn.preprocessing import StandardScaler"
   ]
  },
  {
   "cell_type": "markdown",
   "metadata": {},
   "source": [
    "#### **Summary Table of R-to-Python Imports**\n",
    "| Functionality | R Equivalent | Python Equivalent |\n",
    "| --- | --- | --- |\n",
    "| Data Manipulation | `dplyr`, `data.table` | `pandas` |\n",
    "| Numerical Computations | `base::log`, `scale()` | `numpy`, `scipy` |\n",
    "| Plotting | `ggplot2`, `plot()`\t| `seaborn`, `matplotlib.pyplot` |\n",
    "| Kernel Density Estimation | `density()` | `gaussian_kde` |\n",
    "| Clustering (K-Means) | `kmeans()` | `sklearn.cluster.KMeans` |\n",
    "| Clustering (DBSCAN) | *-* | `sklearn.cluster.DBSCAN` | \n",
    "| Data Scaling | `scale()` | `sklearn.preprocessing.StandardScaler` |\n"
   ]
  },
  {
   "cell_type": "markdown",
   "metadata": {},
   "source": [
    "### 💥**Main Functions**💥\n",
    "1. `see(arg1, tidy)` – Implements the **Sessa Empirical Estimator (SEE)** using K-Means and DBSCAN (alt) clustering."
   ]
  },
  {
   "cell_type": "code",
   "execution_count": 8,
   "metadata": {},
   "outputs": [],
   "source": [
    "def see(arg1, tidy, clustering_algo):\n",
    "    # Filtering the dataset based on a given drug (arg1).\n",
    "    #   Selects only rows where the ATC (drug code) matches arg1.\n",
    "    C09CA01 = tidy[tidy['ATC'] == arg1]\n",
    "    #   Makes a copy of the filtered data.\n",
    "    Drug_see_p1 = C09CA01.copy()\n",
    "\n",
    "    # Compute Event Intervals\n",
    "    #   Sorts by patient ID (pnr) and prescription date (eksd).\n",
    "    Drug_see_p1 = Drug_see_p1.sort_values(by=['pnr', 'eksd'])\n",
    "    #   Uses shift(1) to get the previous prescription date per patient.\n",
    "    Drug_see_p1['prev_eksd'] = Drug_see_p1.groupby('pnr')['eksd'].shift(1)\n",
    "    #   Drops NaN values (first prescription has no previous date).\n",
    "    Drug_see_p1 = Drug_see_p1.dropna()\n",
    "    #   Computes the difference (event interval) in days.\n",
    "    Drug_see_p1['event_interval'] = (Drug_see_p1['eksd'] - Drug_see_p1['prev_eksd']).dt.days\n",
    "    \n",
    "    # Generate Empirical CDF\n",
    "    #   Creates ECDF values (x, y), similar to R’s ecdfplot().\n",
    "    x = np.sort(Drug_see_p1['event_interval'].values)\n",
    "    y = np.arange(1, len(x) + 1) / len(x)\n",
    "    dfper = pd.DataFrame({'x': x, 'y': y})\n",
    "    #   Filters the lower 80% of the ECDF to remove outliers.\n",
    "    dfper = dfper[dfper['y'] <= 0.8]\n",
    "    \n",
    "    # Plot ECDF\n",
    "    plt.figure(figsize=(10, 4))\n",
    "    plt.subplot(1, 2, 1)\n",
    "    plt.plot(dfper['x'], dfper['y'], label='80% ECDF')\n",
    "    plt.legend()\n",
    "    \n",
    "    plt.subplot(1, 2, 2)\n",
    "    plt.plot(x, y, label='100% ECDF')\n",
    "    plt.legend()\n",
    "    plt.show()\n",
    "    \n",
    "    # Density Estimation\n",
    "    #   Computes the log-transformed density estimation (like R’s density()).\n",
    "    log_event_intervals = np.log(dfper['x'])\n",
    "    #   Estimate probability distribution.\n",
    "    density = gaussian_kde(log_event_intervals)\n",
    "    x_vals = np.linspace(min(log_event_intervals), max(log_event_intervals), 1000)\n",
    "    y_vals = density(x_vals)\n",
    "    \n",
    "    plt.figure(figsize=(6, 4))\n",
    "    plt.plot(np.exp(x_vals), y_vals)\n",
    "    plt.title(\"Log(Event Interval) Density\")\n",
    "    plt.show()\n",
    "    \n",
    "    # Clustering\n",
    "    if clustering_algo == 'dbscan':\n",
    "    #   Alternate clustering (DBSCAN)\n",
    "        scaler = StandardScaler()\n",
    "        scaled_data = scaler.fit_transform(dfper[['x']])\n",
    "        dbscan = DBSCAN(eps=0.5, min_samples=5)\n",
    "        dfper['cluster'] = dbscan.fit_predict(scaled_data)\n",
    "    else:\n",
    "    #   Default clustering (K-Means)\n",
    "        #   Standardizes event intervals\n",
    "        scaler = StandardScaler()\n",
    "        scaled_data = scaler.fit_transform(dfper[['x']])\n",
    "        silhouette_scores = []\n",
    "        for k in range(2, 10):\n",
    "            kmeans = KMeans(n_clusters=k, random_state=1234)\n",
    "            kmeans.fit(scaled_data)\n",
    "            silhouette_scores.append(kmeans.inertia_)\n",
    "        #   Finds the optimal number of clusters (best_k) using K-Means inertia.\n",
    "        best_k = np.argmax(silhouette_scores) + 2\n",
    "        #    Assigns each event interval to a K-Means cluster.\n",
    "        kmeans = KMeans(n_clusters=best_k, random_state=1234)\n",
    "        dfper['cluster'] = kmeans.fit_predict(scaled_data)\n",
    "    \n",
    "    return dfper"
   ]
  },
  {
   "cell_type": "markdown",
   "metadata": {},
   "source": [
    "2. `see_assumption(tidy)` – Analyzes the assumptions behind the SEE, using **box plots and distribution analysis**."
   ]
  },
  {
   "cell_type": "code",
   "execution_count": 7,
   "metadata": {},
   "outputs": [],
   "source": [
    "def see_assumption(tidy):\n",
    "    # Compute event durations\n",
    "    #   Sorts prescriptions per patient.\n",
    "    tidy = tidy.sort_values(by=['pnr', 'eksd'])\n",
    "    tidy['prev_eksd'] = tidy.groupby('pnr')['eksd'].shift(1)\n",
    "    tidy = tidy.dropna()\n",
    "    #   Computes the days between consecutive prescriptions.\n",
    "    tidy['Duration'] = (tidy['eksd'] - tidy['prev_eksd']).dt.days\n",
    "    \n",
    "    # Generate boxplots\n",
    "    # Helps identify anomalies in prescription patterns.\n",
    "    plt.figure(figsize=(8, 4))\n",
    "    sns.boxplot(x='pnr', y='Duration', data=tidy)\n",
    "    plt.xticks(rotation=90)\n",
    "    plt.show()\n",
    "    \n",
    "    return tidy[['pnr', 'Duration']]\n",
    "\n",
    "# Example usage:\n",
    "# tidy['eksd'] = pd.to_datetime(tidy['eksd'])\n",
    "# result_A = see('medA', tidy)\n",
    "# result_B = see('medB', tidy)\n",
    "# see_assumption(result_A)\n"
   ]
  },
  {
   "cell_type": "markdown",
   "metadata": {},
   "source": [
    "### **Final Summary of Function Roles**\n",
    "| **Function**       | **Purpose** |\n",
    "|--------------------|------------|\n",
    "| `see(arg1, tidy)` | Implements **Sessa Empirical Estimator (SEE)** using **K-Means and DBSCAN clustering** on prescription intervals. |\n",
    "| `see_assumption(tidy)` | Analyzes **intervals between prescriptions** using **box plots and distribution analysis**. |\n"
   ]
  },
  {
   "cell_type": "markdown",
   "metadata": {},
   "source": [
    "---\n",
    "## 👨‍🏭 **Perform SEE on Simulated Data**"
   ]
  }
 ],
 "metadata": {
  "kernelspec": {
   "display_name": "base",
   "language": "python",
   "name": "python3"
  },
  "language_info": {
   "codemirror_mode": {
    "name": "ipython",
    "version": 3
   },
   "file_extension": ".py",
   "mimetype": "text/x-python",
   "name": "python",
   "nbconvert_exporter": "python",
   "pygments_lexer": "ipython3",
   "version": "3.12.7"
  }
 },
 "nbformat": 4,
 "nbformat_minor": 2
}
